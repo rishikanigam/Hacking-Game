{
 "cells": [
  {
   "cell_type": "code",
   "execution_count": 1,
   "id": "1520881c-ff8c-47f3-82af-348e74bca8c0",
   "metadata": {},
   "outputs": [
    {
     "name": "stdout",
     "output_type": "stream",
     "text": [
      "Welcome to the Hacking Game!\n",
      "Your mission: Guess the correct password to hack into the system.\n",
      "You have a limited number of attempts to succeed.\n",
      "--------------------------------------------------\n",
      "\n",
      "Possible passwords:\n",
      "1. admin2024\n",
      "2. password123\n",
      "3. iloveyou\n",
      "4. qwerty\n",
      "5. sunshine\n",
      "6. hackerpro\n",
      "7. abc123\n",
      "8. monkey\n",
      "9. trustno1\n",
      "10. letmein\n",
      "\n",
      "Attempts remaining: 5\n"
     ]
    },
    {
     "name": "stdin",
     "output_type": "stream",
     "text": [
      "Select the number corresponding to your password guess:  8\n"
     ]
    },
    {
     "name": "stdout",
     "output_type": "stream",
     "text": [
      "Wrong password! monkey is not correct.\n",
      "\n",
      "Attempts remaining: 4\n"
     ]
    },
    {
     "name": "stdin",
     "output_type": "stream",
     "text": [
      "Select the number corresponding to your password guess:  2\n"
     ]
    },
    {
     "name": "stdout",
     "output_type": "stream",
     "text": [
      "Wrong password! password123 is not correct.\n",
      "\n",
      "Attempts remaining: 3\n"
     ]
    },
    {
     "name": "stdin",
     "output_type": "stream",
     "text": [
      "Select the number corresponding to your password guess:  8\n"
     ]
    },
    {
     "name": "stdout",
     "output_type": "stream",
     "text": [
      "Wrong password! monkey is not correct.\n",
      "\n",
      "Attempts remaining: 2\n"
     ]
    },
    {
     "name": "stdin",
     "output_type": "stream",
     "text": [
      "Select the number corresponding to your password guess:  9\n"
     ]
    },
    {
     "name": "stdout",
     "output_type": "stream",
     "text": [
      "Wrong password! trustno1 is not correct.\n",
      "\n",
      "Attempts remaining: 1\n"
     ]
    },
    {
     "name": "stdin",
     "output_type": "stream",
     "text": [
      "Select the number corresponding to your password guess:  10\n"
     ]
    },
    {
     "name": "stdout",
     "output_type": "stream",
     "text": [
      "\n",
      "Access Granted! You successfully hacked the system!\n"
     ]
    }
   ],
   "source": [
    "import random\n",
    "\n",
    "# Game function\n",
    "def hacking_game():\n",
    "    print(\"Welcome to the Hacking Game!\")\n",
    "    print(\"Your mission: Guess the correct password to hack into the system.\")\n",
    "    print(\"You have a limited number of attempts to succeed.\")\n",
    "    print(\"-\" * 50)\n",
    "\n",
    "    # Predefined password list\n",
    "    password_list = [\"password123\", \"letmein\", \"trustno1\", \"admin2024\", \"hackerpro\", \n",
    "                     \"qwerty\", \"iloveyou\", \"abc123\", \"monkey\", \"sunshine\"]\n",
    "    correct_password = random.choice(password_list)\n",
    "    fake_passwords = random.sample(password_list, len(password_list))\n",
    "    if correct_password not in fake_passwords:\n",
    "        fake_passwords[random.randint(0, len(fake_passwords)-1)] = correct_password\n",
    "    attempts = 5\n",
    "\n",
    "    # Display possible passwords\n",
    "    print(\"\\nPossible passwords:\")\n",
    "    for idx, pwd in enumerate(fake_passwords, 1):\n",
    "        print(f\"{idx}. {pwd}\")\n",
    "\n",
    "    # Game loop\n",
    "    while attempts > 0:\n",
    "        print(f\"\\nAttempts remaining: {attempts}\")\n",
    "        try:\n",
    "            choice = int(input(\"Select the number corresponding to your password guess: \")) - 1\n",
    "            if 0 <= choice < len(fake_passwords):\n",
    "                guess = fake_passwords[choice]\n",
    "                if guess == correct_password:\n",
    "                    print(\"\\nAccess Granted! You successfully hacked the system!\")\n",
    "                    return\n",
    "                else:\n",
    "                    print(f\"Wrong password! {guess} is not correct.\")\n",
    "                    attempts -= 1\n",
    "            else:\n",
    "                print(\"Invalid choice. Please enter a number corresponding to the list.\")\n",
    "        except ValueError:\n",
    "            print(\"Invalid input. Please enter a valid number.\")\n",
    "\n",
    "    # Game over\n",
    "    print(\"\\nAccess Denied! You failed to hack the system.\")\n",
    "    print(\"Terminating program...\")\n",
    "\n",
    "# Run the game\n",
    "hacking_game()\n"
   ]
  },
  {
   "cell_type": "code",
   "execution_count": null,
   "id": "855eaa78-0036-40dd-8c21-df2956e37868",
   "metadata": {},
   "outputs": [],
   "source": []
  }
 ],
 "metadata": {
  "kernelspec": {
   "display_name": "Python 3 (ipykernel)",
   "language": "python",
   "name": "python3"
  },
  "language_info": {
   "codemirror_mode": {
    "name": "ipython",
    "version": 3
   },
   "file_extension": ".py",
   "mimetype": "text/x-python",
   "name": "python",
   "nbconvert_exporter": "python",
   "pygments_lexer": "ipython3",
   "version": "3.11.7"
  }
 },
 "nbformat": 4,
 "nbformat_minor": 5
}
